{
 "cells": [
  {
   "cell_type": "code",
   "execution_count": 21,
   "metadata": {},
   "outputs": [],
   "source": [
    "import numpy as np\n",
    "from numpy import *\n",
    "import array\n",
    "import math\n",
    "import random\n",
    "import matplotlib.pyplot as plt\n",
    "from IPython.display import clear_output"
   ]
  },
  {
   "cell_type": "code",
   "execution_count": 22,
   "metadata": {},
   "outputs": [],
   "source": [
    "# CONSTANTS\n",
    "# number of arms\n",
    "ARMS = 10"
   ]
  },
  {
   "cell_type": "markdown",
   "metadata": {},
   "source": [
    "Initialize the expected reward for each arm."
   ]
  },
  {
   "cell_type": "code",
   "execution_count": 23,
   "metadata": {},
   "outputs": [
    {
     "data": {
      "image/png": "[encoded data removed]",
      "text/plain": [
       "<Figure size 320x320 with 1 Axes>"
      ]
     },
     "metadata": {},
     "output_type": "display_data"
    },
    {
     "name": "stdout",
     "output_type": "stream",
     "text": [
      "best arm 1\n"
     ]
    }
   ],
   "source": [
    "# expected reward for each of the arms (random)\n",
    "exp_r = np.random.uniform(0, 1, ARMS) # E[x]\n",
    "best_arm = np.argmax(exp_r) \n",
    "\n",
    "plt.figure(figsize=(4, 4), dpi=80)\n",
    "\n",
    "y_pos = np.arange(len(exp_r)) + 1\n",
    "plt.bar(y_pos, exp_r, align='center', color=[ \"tab:red\" if i==best_arm else \"tab:blue\" for i in range(len(exp_r)) ])\n",
    "plt.xticks(y_pos)\n",
    "plt.ylabel('Expected reward')\n",
    "plt.xlabel('Arms')\n",
    "plt.ylim(0.,1.)\n",
    "plt.show()\n",
    "\n",
    "print(\"best arm\", best_arm + 1)\n"
   ]
  },
  {
   "cell_type": "code",
   "execution_count": 53,
   "metadata": {},
   "outputs": [],
   "source": [
    "def avg_reward(exp_r, n, HALF_SIZE):\n",
    "    '''\n",
    "    Compute the average reward playing each arm A for n rounds\n",
    "    exp_r: list of expected reward for each arm\n",
    "    T: number of rounds\n",
    "    HALF_SIZE: max reward variation\n",
    "    '''\n",
    "    \n",
    "    avg_r = np.zeros(exp_r.shape) \n",
    "    \n",
    "    for r in range(n):\n",
    "        avg_r += np.random.uniform(exp_r - HALF_SIZE, exp_r + HALF_SIZE)\n",
    "        \n",
    "    return avg_r/n"
   ]
  },
  {
   "cell_type": "markdown",
   "metadata": {},
   "source": [
    "# Experiment 1\n",
    "\n",
    "Play the same arm 100 and 10,000 times. What do you expect to obtain?\n",
    "\n",
    "For the LLN's law we know that the regret approaches \n",
    "\n",
    "- 0 for the best arm and \n",
    "- $T \\Delta_a$, the gap $\\Delta_a$ between the best arm and the selected arm $a$ times the number of rounds $T$ otherwise"
   ]
  },
  {
   "cell_type": "code",
   "execution_count": 54,
   "metadata": {
    "scrolled": false
   },
   "outputs": [
    {
     "name": "stdout",
     "output_type": "stream",
     "text": [
      "10000 rounds\n",
      "best arm 1\n"
     ]
    },
    {
     "data": {
      "image/png": "[encoded data removed]",
      "text/plain": [
       "<Figure size 400x400 with 1 Axes>"
      ]
     },
     "metadata": {},
     "output_type": "display_data"
    }
   ],
   "source": [
    "# experiment 1: What happens if you play the same arm\n",
    "ROUNDS = 10000\n",
    "HALF_SIZE = 1.\n",
    "prc = np.zeros(ARMS)\n",
    "\n",
    "avg_r = avg_reward(exp_r, ROUNDS, HALF_SIZE)\n",
    "print (ROUNDS, \"rounds\")\n",
    "print (\"best arm\", best_arm + 1)\n",
    "\n",
    "# optimisation error (percentage)\n",
    "for a in range (0, ARMS):\n",
    "    prc[a] = (1 - avg_r[a] / exp_r[best_arm]) * 100\n",
    "    \n",
    "plt.figure(figsize=(5, 5), dpi=80)\n",
    "y_pos = np.arange(len(prc)) + 1\n",
    "plt.bar(y_pos, prc, align='center', alpha=0.9)\n",
    "plt.xticks(y_pos)\n",
    "plt.ylabel('Opt error (%)')\n",
    "plt.xlabel('Arms')\n",
    "\n",
    "plt.show()"
   ]
  },
  {
   "cell_type": "markdown",
   "metadata": {},
   "source": [
    "I expect that the optimization error is found with more confidence, for a larger number T. With 100 rounds the optimization error is more uncertain than if we play 10,000 times. We have more accurate estimates on the optimal actions to play. Hoeffdings inequality shows us that a small gap $\\Delta_a$ implies that we need a large T to have accurate estimates of the optimal actions to play. "
   ]
  },
  {
   "cell_type": "markdown",
   "metadata": {},
   "source": [
    "# Experiment 2: Explore and commit\n",
    "\n",
    "Play each arm EXP_ROUNDS (number of rounds dedicated to exploration for each arm) and then play the arm with the highest average reward for the remaining rounds (ROUNDS - EXP_ROUNDS * ARMS). Check what happens for different values of EXP_ROUNDS"
   ]
  },
  {
   "cell_type": "code",
   "execution_count": 117,
   "metadata": {},
   "outputs": [],
   "source": [
    "def compute_gap(optimal_r, emp_best_r, n):\n",
    "    '''\n",
    "    Compute gap between the best arm and the selected arm for n rounds\n",
    "    optimal_r: optimal reward \n",
    "    emp_best_r: best empirical reward \n",
    "    n: number of rounds played\n",
    "    '''\n",
    "    delta = optimal_r * n - emp_best_r\n",
    "    return delta\n",
    "    \n",
    "def optimization_error(exp_r, EXP_ROUNDS, ROUNDS, HALF_SIZE):\n",
    "    '''\n",
    "    Explore-Then-Commit strategy\n",
    "    EXPLORE playing all the arms and finding the best empirical reward\n",
    "    THEN play that arm leading to the best empirical reward\n",
    "    \n",
    "    Parameters.\n",
    "    exp_r: expected reward\n",
    "    EXP_ROUNDS: rounds to explore\n",
    "    ROUNDS: rounds to play\n",
    "    HALF_SIZE: max reward variation\n",
    "    '''\n",
    "    \n",
    "    # first, explore for EXP_ROUNDS\n",
    "    avg_r = avg_reward(exp_r, EXP_ROUNDS, HALF_SIZE)\n",
    "    \n",
    "    # best arm empirically found \n",
    "    arm = np.argmax(avg_r) \n",
    "    \n",
    "    # then commit, play the best arm found for ROUNDS time\n",
    "    cumul_r = 0.\n",
    "    \n",
    "    for r in range(0,ROUNDS):\n",
    "        cumul_r += np.random.uniform(exp_r[arm] - HALF_SIZE, exp_r[arm] + HALF_SIZE)\n",
    "        \n",
    "    # compute optimization error\n",
    "    opt = exp_r[best_arm] * ROUNDS - cumul_r\n",
    "    \n",
    "    return opt"
   ]
  },
  {
   "cell_type": "code",
   "execution_count": 125,
   "metadata": {
    "scrolled": true
   },
   "outputs": [
    {
     "data": {
      "text/plain": [
       "<matplotlib.legend.Legend at 0x222b9d18070>"
      ]
     },
     "execution_count": 125,
     "metadata": {},
     "output_type": "execute_result"
    },
    {
     "data": {
      "image/png": "[encoded data removed]",
      "text/plain": [
       "<Figure size 960x320 with 1 Axes>"
      ]
     },
     "metadata": {},
     "output_type": "display_data"
    }
   ],
   "source": [
    "# experiment 2: going greedy (exploitation) after some exploration\n",
    "ROUNDS = 1000\n",
    "EXP_ROUNDS_LIST = np.array([5, 10, 15, 20, 25, 50, 100])\n",
    "# when you are done check what happens when you run 1000 instead of 100 experiments\n",
    "REPEAT_EXPERIMENTS = 1000\n",
    "\n",
    "opt_list = []\n",
    "for repreat in range(REPEAT_EXPERIMENTS):\n",
    "    opt_list.append([optimization_error(exp_r, EXP_ROUNDS, ROUNDS - EXP_ROUNDS * ARMS, HALF_SIZE) for EXP_ROUNDS in EXP_ROUNDS_LIST ])\n",
    "    \n",
    "opt_list = np.array(opt_list)\n",
    "mean_opt_list = np.mean(opt_list, axis=0) # compute the mean wrt to the number of repeats\n",
    "max_opt_list = np.std(opt_list, axis=0)\n",
    "min_opt_list = np.std(opt_list, axis=0)\n",
    "\n",
    "\n",
    "plt.figure(figsize=(12, 4), dpi=80)\n",
    "plt.plot(EXP_ROUNDS_LIST, mean_opt_list, marker=\"o\", label=\"mean\")\n",
    "plt.fill_between(EXP_ROUNDS_LIST, mean_opt_list + max_opt_list, mean_opt_list - min_opt_list, label=\"interval\", alpha=0.1)\n",
    "#plt.plot(EXP_ROUNDS_LIST, (ROUNDS*ARMS)/np.sqrt(EXP_ROUNDS_LIST), color = \"red\", label=\"bound\")\n",
    "plt.xlabel(\"exploration rounds per arm\")\n",
    "plt.ylabel(\"optimization error\")\n",
    "plt.legend()"
   ]
  },
  {
   "cell_type": "markdown",
   "metadata": {},
   "source": [
    "The optimalization error converges faster towards 0 when increasing the number of experiments from 100 to 1000. "
   ]
  },
  {
   "cell_type": "markdown",
   "metadata": {},
   "source": [
    "# Experiment 3: $\\epsilon$-greedy\n",
    "\n",
    "Initialise the average reward by playing each arm once. Then, proceed by playing the arm with the highest average return with probability $1-\\epsilon$ and an arm sampled uniformly at random otherwise. Check what happens for different values of $\\epsilon$."
   ]
  },
  {
   "cell_type": "code",
   "execution_count": 109,
   "metadata": {},
   "outputs": [],
   "source": [
    "\n",
    "def regret(exp_r, ROUNDS, epsilon, HALF_SIZE):\n",
    "    '''    \n",
    "    Parameters.\n",
    "    exp_r: expected reward\n",
    "    ROUNDS: rounds to play\n",
    "    HALF_SIZE: max reward variation\n",
    "    '''\n",
    "    \n",
    "    ARMS = exp_r.size # number of arms\n",
    "    \n",
    "    avg_r = np.random.uniform(exp_r - HALF_SIZE, exp_r + HALF_SIZE)\n",
    "    arm = np.argmax(avg_r)\n",
    "    times_played = np.ones(ARMS)\n",
    "    times_played[arm] += 1\n",
    "    cumul_r = avg_r[arm]\n",
    "    \n",
    "    for r in range (1, ROUNDS):\n",
    "        \n",
    "        # going random with probability epsilon \n",
    "        p = np.random.random()\n",
    "        \n",
    "        if p < epsilon:\n",
    "            arm = np.random.randint(0, ARMS); # select random arm \n",
    "    \n",
    "        tmp = np.random.uniform(exp_r[arm] - HALF_SIZE, exp_r[arm] + HALF_SIZE)\n",
    "        cumul_r += tmp\n",
    "        avg_r[arm] += (tmp - avg_r[arm]) / times_played[arm] \n",
    "        \n",
    "        # update the best arm empirically found\n",
    "        arm = np.argmax(avg_r)\n",
    "        times_played[arm] += 1\n",
    "    \n",
    "    # compute optimization error\n",
    "    best_arm = np.argmax(exp_r) # arm of the optimal policy\n",
    "    regret = exp_r[best_arm] * ROUNDS - cumul_r\n",
    "    \n",
    "    return regret"
   ]
  },
  {
   "cell_type": "code",
   "execution_count": 110,
   "metadata": {},
   "outputs": [
    {
     "data": {
      "text/plain": [
       "Text(0, 0.5, 'regret')"
      ]
     },
     "execution_count": 110,
     "metadata": {},
     "output_type": "execute_result"
    },
    {
     "data": {
      "image/png": "[encoded data removed]",
      "text/plain": [
       "<Figure size 960x320 with 1 Axes>"
      ]
     },
     "metadata": {},
     "output_type": "display_data"
    }
   ],
   "source": [
    "# experiment 3: going epsilon-greedy \n",
    "ROUNDS = 1000\n",
    "EPSILON_LIST = np.array([.001, .005, .01, .02, 0.05, 0.1, 0.2, 0.5]) # probability of choosing a policy at random\n",
    "# when you are done check what happens when you repeat the experiments 1000 times\n",
    "REPEAT_EXPERIMENTS = 1000\n",
    "\n",
    "regret_list = []\n",
    "for repreat in range(REPEAT_EXPERIMENTS):\n",
    "    regret_list.append([regret(exp_r, ROUNDS, epsilon, HALF_SIZE) for epsilon in EPSILON_LIST ])\n",
    "\n",
    "# compute the mean wrt to the number of repeats\n",
    "regret_list = np.array(regret_list)\n",
    "regret_list = np.mean(regret_list, axis=0) \n",
    "std_regret_list = np.std(regret_list, axis=0)\n",
    "\n",
    "plt.figure(figsize=(12, 4), dpi=80)\n",
    "plt.plot(EPSILON_LIST, regret_list, marker=\"o\", label=\"regret\")\n",
    "plt.fill_between(EPSILON_LIST, regret_list + std_regret_list, regret_list - std_regret_list, label=\"interval\", alpha=0.1)\n",
    "plt.xlabel(\"epsilon\")\n",
    "plt.ylabel(\"regret\")"
   ]
  },
  {
   "cell_type": "markdown",
   "metadata": {},
   "source": [
    "As we can see, the regret goes down while increasing epsilon in the beginning. This means that some exploration is good to maximize the reward and minimize the regret. However too much exploration results in too little exploitation, and results in a larger regret for larger epsilon. "
   ]
  },
  {
   "cell_type": "code",
   "execution_count": null,
   "metadata": {},
   "outputs": [],
   "source": []
  }
 ],
 "metadata": {
  "kernelspec": {
   "display_name": "Python 3 (ipykernel)",
   "language": "python",
   "name": "python3"
  },
  "language_info": {
   "codemirror_mode": {
    "name": "ipython",
    "version": 3
   },
   "file_extension": ".py",
   "mimetype": "text/x-python",
   "name": "python",
   "nbconvert_exporter": "python",
   "pygments_lexer": "ipython3",
   "version": "3.10.4"
  }
 },
 "nbformat": 4,
 "nbformat_minor": 2
}
